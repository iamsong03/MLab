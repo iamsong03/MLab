{
 "cells": [
  {
   "cell_type": "code",
   "execution_count": 1,
   "id": "72a3b0ce",
   "metadata": {},
   "outputs": [],
   "source": [
    "using ITensors\n",
    "using JLD2"
   ]
  },
  {
   "cell_type": "code",
   "execution_count": 2,
   "id": "08612670",
   "metadata": {},
   "outputs": [
    {
     "data": {
      "text/plain": [
       "DMRG (generic function with 1 method)"
      ]
     },
     "execution_count": 2,
     "metadata": {},
     "output_type": "execute_result"
    }
   ],
   "source": [
    "function DMRG(N; g)\n",
    "    sites = siteinds(\"S=1/2\",N)\n",
    "    \n",
    "    H = OpSum()\n",
    "    for i in 1:N-1\n",
    "        H += -1,\"Sz\",i,\"Sz\",i+1\n",
    "    end\n",
    "    for i in 1:N\n",
    "        H += -g,\"Sx\",i\n",
    "    end\n",
    "    \n",
    "    MPH = MPO(H,sites)\n",
    "    ψ = randomMPS(sites,10)\n",
    "    \n",
    "    sweeps = Sweeps(10)\n",
    "    setmaxdim!(sweeps, 10,20,100,200,400,800)\n",
    "    setcutoff!(sweeps, 1E-8)\n",
    "    E_0, ψ_0 = dmrg(MPH, ψ, sweeps, outputlevel = 0)\n",
    "    \n",
    "    return ψ_0\n",
    "end"
   ]
  },
  {
   "cell_type": "code",
   "execution_count": 3,
   "id": "0f9f4388",
   "metadata": {
    "scrolled": true
   },
   "outputs": [],
   "source": [
    "g = collect(0.0:0.01:1.0)\n",
    "ψ = Vector{MPS}(undef, length(g))\n",
    "\n",
    "for vals in g\n",
    "    @inbounds i = Int(round(vals*100)) + 1\n",
    "    ψ[i] = DMRG(80, g = vals)\n",
    "end"
   ]
  },
  {
   "cell_type": "code",
   "execution_count": 4,
   "id": "e8fcb181",
   "metadata": {},
   "outputs": [],
   "source": [
    "os = OpSum()\n",
    "for j=1:80\n",
    "    os += 1/80,\"Sz\",j\n",
    "end\n",
    "\n",
    "M² = fill(0.0, length(ψ))\n",
    "for i in 1:length(ψ)\n",
    "    @inbounds sites = siteinds(ψ[i])\n",
    "    M = MPO(os,sites)\n",
    "    M_sq = apply(M,M)\n",
    "    @inbounds M²[i] = inner(ψ[i]',M_sq,ψ[i])\n",
    "end"
   ]
  },
  {
   "cell_type": "code",
   "execution_count": 5,
   "id": "26eb46f7",
   "metadata": {},
   "outputs": [],
   "source": [
    "save_object(\"LongRangeOrder.jld2\", M²)"
   ]
  }
 ],
 "metadata": {
  "kernelspec": {
   "display_name": "Julia 1.9.3",
   "language": "julia",
   "name": "julia-1.9"
  },
  "language_info": {
   "file_extension": ".jl",
   "mimetype": "application/julia",
   "name": "julia",
   "version": "1.9.3"
  }
 },
 "nbformat": 4,
 "nbformat_minor": 5
}

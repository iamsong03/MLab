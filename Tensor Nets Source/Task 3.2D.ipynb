{
 "cells": [
  {
   "cell_type": "code",
   "execution_count": 1,
   "id": "09425889",
   "metadata": {},
   "outputs": [],
   "source": [
    "using ITensors\n",
    "using JLD2"
   ]
  },
  {
   "cell_type": "code",
   "execution_count": 2,
   "id": "7278ff07",
   "metadata": {},
   "outputs": [
    {
     "data": {
      "text/plain": [
       "DMRG (generic function with 1 method)"
      ]
     },
     "execution_count": 2,
     "metadata": {},
     "output_type": "execute_result"
    }
   ],
   "source": [
    "function DMRG(N; g)\n",
    "    sites = siteinds(\"S=1/2\",N)\n",
    "    \n",
    "    H = OpSum()\n",
    "    for i in 1:N-1\n",
    "        H += -1,\"Sz\",i,\"Sz\",i+1\n",
    "    end\n",
    "    for i in 1:N\n",
    "        H += -g,\"Sx\",i\n",
    "    end\n",
    "    \n",
    "    MPH = MPO(H,sites)\n",
    "    ψ = randomMPS(sites, linkdims = 10)\n",
    "    \n",
    "    sweeps = Sweeps(40)\n",
    "    setmaxdim!(sweeps, 10,10,10,20,20,50,100,200,400,400)\n",
    "    setcutoff!(sweeps, 1E-10)\n",
    "    setnoise!(sweeps, 1E-6, 1E-7, 1E-8, 0.0)\n",
    "    E_0, ψ_0 = dmrg(MPH, ψ, sweeps, outputlevel = 0)\n",
    "    \n",
    "    return ψ_0\n",
    "end"
   ]
  },
  {
   "cell_type": "code",
   "execution_count": 3,
   "id": "a8d360cd",
   "metadata": {},
   "outputs": [
    {
     "data": {
      "text/plain": [
       "entropy (generic function with 1 method)"
      ]
     },
     "execution_count": 3,
     "metadata": {},
     "output_type": "execute_result"
    }
   ],
   "source": [
    "function entropy(ψ::MPS)\n",
    "    L = length(ψ)/2\n",
    "    b = Int(floor(L))\n",
    "    \n",
    "    orthogonalize!(ψ, b)\n",
    "    U,S,V = svd(ψ[b], (linkind(ψ, b-1), siteind(ψ,b)))\n",
    "    \n",
    "    SvN = 0.0\n",
    "    #normalize!(S)\n",
    "    for k = 1:dim(S, 1)\n",
    "        p = S[k,k]^2\n",
    "        SvN -= p*log(p)\n",
    "    end\n",
    "    \n",
    "    return SvN\n",
    "end"
   ]
  },
  {
   "cell_type": "code",
   "execution_count": 4,
   "id": "229ddc96",
   "metadata": {},
   "outputs": [],
   "source": [
    "sizes = [61:80;]\n",
    "S = zeros(Float64, length(sizes))\n",
    "for i in 1:length(sizes)\n",
    "    ψ = DMRG(sizes[i], g = 0.5)\n",
    "    S[i] += entropy(ψ)\n",
    "end"
   ]
  },
  {
   "cell_type": "code",
   "execution_count": 5,
   "id": "5cc26f28",
   "metadata": {},
   "outputs": [],
   "source": [
    "save_object(\"Entropy_TFIM.jld2\", S)"
   ]
  }
 ],
 "metadata": {
  "kernelspec": {
   "display_name": "Julia 1.9.3",
   "language": "julia",
   "name": "julia-1.9"
  },
  "language_info": {
   "file_extension": ".jl",
   "mimetype": "application/julia",
   "name": "julia",
   "version": "1.9.3"
  }
 },
 "nbformat": 4,
 "nbformat_minor": 5
}

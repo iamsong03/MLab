{
 "cells": [
  {
   "cell_type": "code",
   "execution_count": 1,
   "id": "5cc14827",
   "metadata": {},
   "outputs": [],
   "source": [
    "using ITensors\n",
    "using FiniteSizeScaling\n",
    "using ProgressMeter\n",
    "using JLD2"
   ]
  },
  {
   "cell_type": "code",
   "execution_count": 6,
   "id": "47374f95",
   "metadata": {},
   "outputs": [
    {
     "data": {
      "text/plain": [
       "gaps (generic function with 1 method)"
      ]
     },
     "execution_count": 6,
     "metadata": {},
     "output_type": "execute_result"
    }
   ],
   "source": [
    "function gaps(N; g)\n",
    "    sites = siteinds(\"S=1/2\",N)\n",
    "    \n",
    "    H = OpSum()\n",
    "    for i in 1:N-1\n",
    "        H += -1,\"Sz\",i,\"Sz\",i+1\n",
    "    end\n",
    "    for i in 1:N\n",
    "        H += -g,\"Sx\",i\n",
    "    end\n",
    "    \n",
    "    MPH = MPO(H,sites)\n",
    "    ψ = randomMPS(sites,2)\n",
    "    ϕ = randomMPS(sites,2)\n",
    "    \n",
    "    sweeps = Sweeps(30)\n",
    "    setmaxdim!(sweeps, 10,10,10,20,20,40,80,100,200,200)\n",
    "    setcutoff!(sweeps, 1E-8)\n",
    "    setnoise!(sweeps, 1E-6)\n",
    "    \n",
    "    E_0, ψ_0 = dmrg(MPH, ψ, sweeps, outputlevel = 0)\n",
    "    E_1, ψ_1 = dmrg(MPH, [ψ_0], ϕ, sweeps, weight = 20*g + 20, outputlevel = 0)\n",
    "    ΔE = E_1 - E_0\n",
    "    \n",
    "    return ΔE\n",
    "end"
   ]
  },
  {
   "cell_type": "code",
   "execution_count": 7,
   "id": "edc4fcbb",
   "metadata": {},
   "outputs": [
    {
     "name": "stderr",
     "output_type": "stream",
     "text": [
      "\u001b[32mProgress: 100%|█████████████████████████████████████████| Time: 0:04:19\u001b[39m\n",
      "\u001b[32mProgress: 100%|█████████████████████████████████████████| Time: 0:04:37\u001b[39m\n",
      "\u001b[32mProgress: 100%|█████████████████████████████████████████| Time: 0:05:13\u001b[39m\n",
      "\u001b[32mProgress: 100%|█████████████████████████████████████████| Time: 0:05:37\u001b[39m\n",
      "\u001b[32mProgress: 100%|█████████████████████████████████████████| Time: 0:05:59\u001b[39m\n"
     ]
    }
   ],
   "source": [
    "g = [0.2:0.05:0.4; 0.41:0.01:0.6; 0.65:0.05:1]\n",
    "L = [60:5:80;]\n",
    "ΔE_L = Vector{Vector{Float64}}(undef, length(L))\n",
    "j = 0\n",
    "\n",
    "for l in 1:length(L)\n",
    "    ΔE = fill(0.0, length(g))\n",
    "    @showprogress for i in 1:length(g)\n",
    "        ΔE[i] = gaps(L[l], g = g[i])\n",
    "    end\n",
    "    ΔE_L[l] = ΔE\n",
    "end"
   ]
  },
  {
   "cell_type": "code",
   "execution_count": 8,
   "id": "8ab2f6fa",
   "metadata": {},
   "outputs": [],
   "source": [
    "ΔE = hcat(ΔE_L...)\n",
    "save_object(\"EnergyGaps.jld2\",ΔE)"
   ]
  },
  {
   "cell_type": "code",
   "execution_count": 19,
   "id": "1d1af871",
   "metadata": {},
   "outputs": [
    {
     "name": "stdout",
     "output_type": "stream",
     "text": [
      "Optimal v1 value: 0.5\n",
      "Optimal v2 value: 0.9878975795159032\n",
      "Smallest residual: 0.00015534181809838087 \n",
      " \n"
     ]
    }
   ],
   "source": [
    "ν = load_object(\"ν.jld2\")\n",
    "x_scaled(X, L, v1, v2) = @. (((X-0.5)/0.5)) * L^(1/ν)\n",
    "y_scaled(Y, L, v1, v2) = @. Y * L^v2\n",
    "data=[[g[12:18], ΔE[12:18, l], L[l]] for l in 1:length(L)]\n",
    "scaled_data, residuals, min_res, best_v1, best_v2 = fss_two_var(data=data, xs=x_scaled, ys=y_scaled, \n",
    "    v1i=0.5, v1f=0.5, n1=1, v2i=0.5, v2f=5, n2=5000, p=8, norm_y=true);\n",
    "save_object(\"z\", best_v2)"
   ]
  }
 ],
 "metadata": {
  "kernelspec": {
   "display_name": "Julia 1.9.3",
   "language": "julia",
   "name": "julia-1.9"
  },
  "language_info": {
   "file_extension": ".jl",
   "mimetype": "application/julia",
   "name": "julia",
   "version": "1.9.3"
  }
 },
 "nbformat": 4,
 "nbformat_minor": 5
}

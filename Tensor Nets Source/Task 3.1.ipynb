{
 "cells": [
  {
   "cell_type": "code",
   "execution_count": 1,
   "id": "d465a730",
   "metadata": {},
   "outputs": [],
   "source": [
    "using ITensors\n",
    "using JLD2"
   ]
  },
  {
   "cell_type": "markdown",
   "id": "a4379e39",
   "metadata": {},
   "source": [
    "## Task 3.1"
   ]
  },
  {
   "cell_type": "code",
   "execution_count": 6,
   "id": "c6ee79e3",
   "metadata": {},
   "outputs": [],
   "source": [
    "ITensors.set_warn_order(25);"
   ]
  },
  {
   "cell_type": "code",
   "execution_count": 7,
   "id": "4d16a7a0",
   "metadata": {},
   "outputs": [
    {
     "data": {
      "text/plain": [
       "entropies (generic function with 1 method)"
      ]
     },
     "execution_count": 7,
     "metadata": {},
     "output_type": "execute_result"
    }
   ],
   "source": [
    "function entropies(ψ::MPS)\n",
    "    L = collect(2:length(ψ))\n",
    "    S_arr = Vector{Float64}()\n",
    "    S_bi = Vector{Float64}()\n",
    "    \n",
    "    for b in L\n",
    "        orthogonalize!(ψ, b)\n",
    "        U,S,V = svd(ψ[b], b > 1 ? (linkind(ψ, b-1), siteind(ψ,b)) : (siteind(ψ,b))) \n",
    "        SvN = 0.0\n",
    "        #normalize!(S)\n",
    "        for k = 1:dim(S, 1)\n",
    "            p = S[k,k]^2\n",
    "            SvN -= p*log(p)\n",
    "            if b == Int(floor(maximum(L)/2))\n",
    "                push!(S_bi, S[k,k])\n",
    "            end\n",
    "        end\n",
    "        push!(S_arr, SvN)\n",
    "    end\n",
    "\n",
    "    return S_arr, S_bi\n",
    "end"
   ]
  },
  {
   "cell_type": "code",
   "execution_count": 14,
   "id": "243e2358",
   "metadata": {},
   "outputs": [],
   "source": [
    "S_arr = Vector{Vector{Float64}}()\n",
    "S_bi = Vector{Vector{Float64}}()\n",
    "for L in [10, 15, 20]\n",
    "    sites = siteinds(\"S=1/2\",L)\n",
    "    T = randomITensor(sites)\n",
    "    M = MPS(T, sites)\n",
    "    ψ = M/norm(M)\n",
    "    S, S_c = entropies(ψ::MPS)\n",
    "    pushfirst!(S, 0.0)\n",
    "    push!(S_arr, S)\n",
    "    push!(S_bi, S_c)\n",
    "end\n",
    "save_object(\"EntanglementEntropies.jld2\", S_arr)\n",
    "save_object(\"EntanglementSpectrum.jld2\", S_bi)"
   ]
  },
  {
   "cell_type": "code",
   "execution_count": 12,
   "id": "a8fc819b",
   "metadata": {},
   "outputs": [
    {
     "data": {
      "text/plain": [
       "3-element Vector{Vector{Float64}}:\n",
       " [0.7553821716761205, 0.5200437860298722, 0.35710534669738103, 0.1772794592887968]\n",
       " [0.33384959931562813, 0.3086501683499409, 0.28696948577809567, 0.27548550724863125, 0.2659431789186319, 0.2555834374540786, 0.2534690299646473, 0.2298325389279834, 0.214262503899654, 0.21276650304579248  …  0.0819420947426108, 0.07705711212819244, 0.05688123095901979, 0.05120257825613731, 0.043512882442064575, 0.03715987853511496, 0.02504534221105691, 0.019519136870872686, 0.007097008427543401, 0.0016905443646798954]\n",
       " [0.06229042621987295, 0.061899398759054036, 0.06163883161808247, 0.06124187031583402, 0.06085378645204433, 0.06077371725704941, 0.06064866924934978, 0.060632142012519895, 0.06037410059528212, 0.0602087691384744  …  0.00036702019589969655, 0.0003433500020534791, 0.0003246243554314986, 0.0002618535843372374, 0.0002289550662962062, 0.00020881170536233033, 0.0001431091827270288, 0.000114511770601754, 6.368049853091261e-5, 1.2283383692179007e-5]"
      ]
     },
     "execution_count": 12,
     "metadata": {},
     "output_type": "execute_result"
    }
   ],
   "source": [
    "S_bi"
   ]
  }
 ],
 "metadata": {
  "kernelspec": {
   "display_name": "Julia 1.9.3",
   "language": "julia",
   "name": "julia-1.9"
  },
  "language_info": {
   "file_extension": ".jl",
   "mimetype": "application/julia",
   "name": "julia",
   "version": "1.9.3"
  }
 },
 "nbformat": 4,
 "nbformat_minor": 5
}

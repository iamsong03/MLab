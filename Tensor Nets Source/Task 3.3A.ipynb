{
 "cells": [
  {
   "cell_type": "code",
   "execution_count": 5,
   "id": "02f2a7fa",
   "metadata": {},
   "outputs": [],
   "source": [
    "using ITensors\n",
    "using ITensors.HDF5\n",
    "using ProgressMeter\n",
    "using JLD2\n",
    "using Plots"
   ]
  },
  {
   "cell_type": "code",
   "execution_count": 6,
   "id": "60d9114d",
   "metadata": {},
   "outputs": [
    {
     "data": {
      "text/plain": [
       "DMRG2 (generic function with 1 method)"
      ]
     },
     "execution_count": 6,
     "metadata": {},
     "output_type": "execute_result"
    }
   ],
   "source": [
    "function DMRG2(N; θ)\n",
    "    sites = siteinds(\"S=1\", N)\n",
    "\n",
    "    os = OpSum()\n",
    "    for j=1:N-1\n",
    "        os += cos(θ)*0.5,\"S+\",j,\"S-\",j+1\n",
    "        os += cos(θ)*0.5,\"S-\",j,\"S+\",j+1\n",
    "        os += cos(θ),\"Sz\",j,\"Sz\",j+1\n",
    "\n",
    "        os += sin(θ)*0.25,\"S+\",j,\"S-\",j+1,\"S+\",j,\"S-\",j+1\n",
    "        os += sin(θ)*0.25,\"S+\",j,\"S-\",j+1,\"S-\",j,\"S+\",j+1\n",
    "        os += sin(θ)*0.5,\"S+\",j,\"S-\",j+1,\"Sz\",j,\"Sz\",j+1\n",
    "\n",
    "        os += sin(θ)*0.25,\"S-\",j,\"S+\",j+1,\"S+\",j,\"S-\",j+1\n",
    "        os += sin(θ)*0.25,\"S-\",j,\"S+\",j+1,\"S-\",j,\"S+\",j+1\n",
    "        os += sin(θ)*0.5,\"S-\",j,\"S+\",j+1,\"Sz\",j,\"Sz\",j+1\n",
    "\n",
    "        os += sin(θ)*0.5,\"Sz\",j,\"Sz\",j+1,\"S+\",j,\"S-\",j+1\n",
    "        os += sin(θ)*0.5,\"Sz\",j,\"Sz\",j+1,\"S-\",j,\"S+\",j+1\n",
    "        os += sin(θ),\"Sz\",j,\"Sz\",j+1,\"Sz\",j,\"Sz\",j+1\n",
    "    end\n",
    "    MPH = MPO(os,sites)\n",
    "    ψ = randomMPS(sites,2)\n",
    "    \n",
    "    sweeps = Sweeps(25)\n",
    "    setmaxdim!(sweeps, 5,5,10,10,10,25,25,25,40)\n",
    "    setcutoff!(sweeps, 1E-7)\n",
    "    setnoise!(sweeps, 1E-7, 1E-8, 1E-9, 0.0)\n",
    "    \n",
    "    E0, ψ0 = dmrg(MPH, ψ, sweeps, outputlevel = 0)\n",
    "    \n",
    "    return ψ0\n",
    "end"
   ]
  },
  {
   "cell_type": "code",
   "execution_count": 7,
   "id": "9e15437c",
   "metadata": {},
   "outputs": [],
   "source": [
    "ψ = DMRG2(100, θ = atan(1/3))\n",
    "f = h5open(\"AKLT_ground.h5\",\"w\")\n",
    "write(f,\"psi\",ψ)\n",
    "close(f)"
   ]
  },
  {
   "cell_type": "code",
   "execution_count": 7,
   "id": "1aa0364e",
   "metadata": {},
   "outputs": [],
   "source": [
    "angles = [-π/2; -π/3; -π/4; -0.5:0.05:0.3; atan(1/3); 0.35:0.05:0.5]\n",
    "ψ = Vector{MPS}(undef, length(angles))\n",
    "i = 1\n",
    "@showprogress for θ in angles\n",
    "    ψ[i] = DMRG2(100, θ = θ)\n",
    "    i += 1\n",
    "end"
   ]
  },
  {
   "cell_type": "code",
   "execution_count": 8,
   "id": "9d10f468",
   "metadata": {},
   "outputs": [],
   "source": [
    "ITensors.op(::OpName\"expSz\",::SiteType\"S=1\") = \n",
    "[-1 0 0\n",
    "  0 1 0\n",
    "  0 0 -1]"
   ]
  },
  {
   "cell_type": "code",
   "execution_count": 9,
   "id": "e4e7f17a",
   "metadata": {},
   "outputs": [],
   "source": [
    "I = [1:5;]\n",
    "J = [100:-1:96;]\n",
    "str_corr = Matrix{Float64}(undef, length(angles), length(I))\n",
    "\n",
    "for i in 1:length(I)\n",
    "    os = OpSum()\n",
    "    os += \"Sz\",I[i]\n",
    "    for j in I[i]+1:J[i]-1\n",
    "        os *= \"expSz\",j\n",
    "    end\n",
    "    os *= \"Sz\",J[i]\n",
    "    for k in 1:length(ψ)\n",
    "        str = MPO(os,siteinds(ψ[k]))\n",
    "        str_corr[k,i] = inner(ψ[k]', str, ψ[k])\n",
    "    end\n",
    "end"
   ]
  },
  {
   "cell_type": "code",
   "execution_count": 10,
   "id": "ae9c0a36",
   "metadata": {},
   "outputs": [],
   "source": [
    "save_object(\"AKLT_params.jld2\",angles)\n",
    "save_object(\"string_correlator.jld2\",str_corr)"
   ]
  }
 ],
 "metadata": {
  "kernelspec": {
   "display_name": "Julia 1.9.3",
   "language": "julia",
   "name": "julia-1.9"
  },
  "language_info": {
   "file_extension": ".jl",
   "mimetype": "application/julia",
   "name": "julia",
   "version": "1.9.3"
  }
 },
 "nbformat": 4,
 "nbformat_minor": 5
}

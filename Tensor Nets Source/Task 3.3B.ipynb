{
 "cells": [
  {
   "cell_type": "code",
   "execution_count": 2,
   "id": "5c84aead",
   "metadata": {},
   "outputs": [],
   "source": [
    "using ITensors\n",
    "using JLD2\n",
    "using Plots\n",
    "using CurveFit\n",
    "using LaTeXStrings"
   ]
  },
  {
   "cell_type": "code",
   "execution_count": 3,
   "id": "37219cf4",
   "metadata": {},
   "outputs": [
    {
     "data": {
      "text/plain": [
       "DMRG2 (generic function with 1 method)"
      ]
     },
     "execution_count": 3,
     "metadata": {},
     "output_type": "execute_result"
    }
   ],
   "source": [
    "function DMRG2(N; θ)\n",
    "    sites = siteinds(\"S=1\", N)\n",
    "\n",
    "    os = OpSum()\n",
    "    for j=1:N-1\n",
    "        os += cos(θ)*0.5,\"S+\",j,\"S-\",j+1\n",
    "        os += cos(θ)*0.5,\"S-\",j,\"S+\",j+1\n",
    "        os += cos(θ),\"Sz\",j,\"Sz\",j+1\n",
    "\n",
    "        os += sin(θ)*0.25,\"S+\",j,\"S-\",j+1,\"S+\",j,\"S-\",j+1\n",
    "        os += sin(θ)*0.25,\"S+\",j,\"S-\",j+1,\"S-\",j,\"S+\",j+1\n",
    "        os += sin(θ)*0.5,\"S+\",j,\"S-\",j+1,\"Sz\",j,\"Sz\",j+1\n",
    "\n",
    "        os += sin(θ)*0.25,\"S-\",j,\"S+\",j+1,\"S+\",j,\"S-\",j+1\n",
    "        os += sin(θ)*0.25,\"S-\",j,\"S+\",j+1,\"S-\",j,\"S+\",j+1\n",
    "        os += sin(θ)*0.5,\"S-\",j,\"S+\",j+1,\"Sz\",j,\"Sz\",j+1\n",
    "\n",
    "        os += sin(θ)*0.5,\"Sz\",j,\"Sz\",j+1,\"S+\",j,\"S-\",j+1\n",
    "        os += sin(θ)*0.5,\"Sz\",j,\"Sz\",j+1,\"S-\",j,\"S+\",j+1\n",
    "        os += sin(θ),\"Sz\",j,\"Sz\",j+1,\"Sz\",j,\"Sz\",j+1\n",
    "    end\n",
    "    MPH = MPO(os,sites)\n",
    "    ψ = randomMPS(sites, 20)\n",
    "    \n",
    "    sweeps = Sweeps(30)\n",
    "    setmaxdim!(sweeps, 5,5,10,10,10,25,25,25,40)\n",
    "    setcutoff!(sweeps, 1E-10)\n",
    "    setnoise!(sweeps, 1E-8, 1E-9, 0.0)\n",
    "    \n",
    "    E0, ψ0 = dmrg(MPH, ψ, sweeps, outputlevel = 0)\n",
    "    \n",
    "    return ψ0\n",
    "end"
   ]
  },
  {
   "cell_type": "code",
   "execution_count": 4,
   "id": "13c1e01a",
   "metadata": {},
   "outputs": [
    {
     "data": {
      "text/plain": [
       "entropies (generic function with 1 method)"
      ]
     },
     "execution_count": 4,
     "metadata": {},
     "output_type": "execute_result"
    }
   ],
   "source": [
    "function entropies(ψ::MPS)\n",
    "    L = collect(2:2:length(ψ))\n",
    "    Ent = Vector{Float64}()\n",
    "    \n",
    "    for b in L\n",
    "        orthogonalize!(ψ, b)\n",
    "        U,S,V = svd(ψ[b], b > 1 ? (linkind(ψ, b-1), siteind(ψ,b)) : (siteind(ψ,b))) \n",
    "        SvN = 0.0\n",
    "        #normalize!(S)\n",
    "        for k = 1:dim(S, 1)\n",
    "            p = S[k,k]^2\n",
    "            SvN -= p*log(p)\n",
    "        end\n",
    "        push!(Ent, SvN)\n",
    "    end\n",
    "\n",
    "    return Ent\n",
    "end"
   ]
  },
  {
   "cell_type": "code",
   "execution_count": 5,
   "id": "af2650f7",
   "metadata": {},
   "outputs": [],
   "source": [
    "ψ = DMRG2(100, θ = -π/4)\n",
    "S = entropies(ψ)\n",
    "ψ = DMRG2(100, θ = atan(1/3))\n",
    "S_AKLT = entropies(ψ)\n",
    "save_object(\"S\", S)\n",
    "save_object(\"S_AKLT\", S_AKLT)"
   ]
  }
 ],
 "metadata": {
  "kernelspec": {
   "display_name": "Julia 1.9.3",
   "language": "julia",
   "name": "julia-1.9"
  },
  "language_info": {
   "file_extension": ".jl",
   "mimetype": "application/julia",
   "name": "julia",
   "version": "1.9.3"
  }
 },
 "nbformat": 4,
 "nbformat_minor": 5
}

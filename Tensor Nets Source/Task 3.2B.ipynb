{
 "cells": [
  {
   "cell_type": "code",
   "execution_count": 1,
   "id": "f91d06ad",
   "metadata": {},
   "outputs": [],
   "source": [
    "using ITensors\n",
    "using FiniteSizeScaling\n",
    "using ProgressMeter\n",
    "using JLD2"
   ]
  },
  {
   "cell_type": "code",
   "execution_count": 2,
   "id": "ac79016b",
   "metadata": {},
   "outputs": [
    {
     "data": {
      "text/plain": [
       "DMRG (generic function with 1 method)"
      ]
     },
     "execution_count": 2,
     "metadata": {},
     "output_type": "execute_result"
    }
   ],
   "source": [
    "function DMRG(N; g)\n",
    "    sites = siteinds(\"S=1/2\",N)\n",
    "    \n",
    "    H = OpSum()\n",
    "    for i in 1:N-1\n",
    "        H += -1,\"Sz\",i,\"Sz\",i+1\n",
    "    end\n",
    "    for i in 1:N\n",
    "        H += -g,\"Sx\",i\n",
    "    end\n",
    "    \n",
    "    MPH = MPO(H,sites)\n",
    "    ψ = randomMPS(sites, 10)\n",
    "    \n",
    "    sweeps = Sweeps(10)\n",
    "    setmaxdim!(sweeps, 10,20,100,200,400,800)\n",
    "    setcutoff!(sweeps, 1E-8)\n",
    "    E_0, ψ_0 = dmrg(MPH, ψ, sweeps, outputlevel = 0)\n",
    "    \n",
    "    return ψ_0\n",
    "end"
   ]
  },
  {
   "cell_type": "code",
   "execution_count": 3,
   "id": "35fefa46",
   "metadata": {
    "scrolled": false
   },
   "outputs": [
    {
     "data": {
      "text/plain": [
       "binder_cumulant (generic function with 1 method)"
      ]
     },
     "execution_count": 3,
     "metadata": {},
     "output_type": "execute_result"
    }
   ],
   "source": [
    "function binder_cumulant(;MPS)\n",
    "    sites = siteinds(MPS)\n",
    "    L = length(sites)\n",
    "    S = collect(1:L)\n",
    "    \n",
    "    os = OpSum()\n",
    "    for j=1:L\n",
    "        os += 1/L,\"Sz\",j\n",
    "    end\n",
    "    M = MPO(os,sites)\n",
    "    M² = apply(M,M)\n",
    "    M⁴ = apply(M²,M²)\n",
    "    \n",
    "    U = 1 - inner(MPS',M⁴,MPS)/(3*inner(MPS',M²,MPS)^2)\n",
    "    \n",
    "    return U\n",
    "end"
   ]
  },
  {
   "cell_type": "code",
   "execution_count": 4,
   "id": "be698f79",
   "metadata": {},
   "outputs": [
    {
     "name": "stderr",
     "output_type": "stream",
     "text": [
      "\u001b[32mProgress: 100%|█████████████████████████████████████████| Time: 0:02:36\u001b[39m\n",
      "\u001b[32mProgress: 100%|█████████████████████████████████████████| Time: 0:01:47\u001b[39m\n",
      "\u001b[32mProgress: 100%|█████████████████████████████████████████| Time: 0:01:57\u001b[39m\n",
      "\u001b[32mProgress: 100%|█████████████████████████████████████████| Time: 0:02:10\u001b[39m\n",
      "\u001b[32mProgress: 100%|█████████████████████████████████████████| Time: 0:02:20\u001b[39m\n"
     ]
    }
   ],
   "source": [
    "g = collect(0.0:0.01:1.0)\n",
    "L = [60,65,70,75,80]\n",
    "BC_data = Vector{Vector{Float64}}(undef, length(L))\n",
    "φ = Vector{MPS}(undef, length(g))\n",
    "\n",
    "for l in 1:length(L)\n",
    "    BC = fill(0.0, length(g))\n",
    "    @showprogress for i in 1:length(g)\n",
    "        @inbounds φ[i] = DMRG(L[l], g = g[i])\n",
    "        @inbounds BC[i] += binder_cumulant(MPS = φ[i])\n",
    "    end\n",
    "    @inbounds BC_data[l] = BC\n",
    "end"
   ]
  },
  {
   "cell_type": "code",
   "execution_count": 5,
   "id": "383657e1",
   "metadata": {},
   "outputs": [],
   "source": [
    "BC = hcat(BC_data...)\n",
    "save_object(\"BinderCumulants.jld2\",BC)"
   ]
  },
  {
   "cell_type": "code",
   "execution_count": 6,
   "id": "2cbdc8ea",
   "metadata": {},
   "outputs": [
    {
     "data": {
      "text/plain": [
       "nu (generic function with 1 method)"
      ]
     },
     "execution_count": 6,
     "metadata": {},
     "output_type": "execute_result"
    }
   ],
   "source": [
    "function nu(BinderCumulant; data = BC, g_c = 0.5)\n",
    "    BC_data = BinderCumulant\n",
    "    fsi = Matrix{Int64}(undef, 2, length(sizes))\n",
    "    \n",
    "    for j in 1:length(sizes)\n",
    "        start = 1 \n",
    "        stop = 1 \n",
    "        for i in 1:length(g)\n",
    "            if data[i,j] > 0.60\n",
    "                start = i\n",
    "            end\n",
    "            if data[i,j] > 0.35\n",
    "                stop = i\n",
    "            end\n",
    "        end\n",
    "        fsi[:,j]=[start; stop]\n",
    "    end\n",
    "    \n",
    "    BC_FSS = [[g[fsi[1,i]:fsi[2,i]], data[fsi[1,i]:fsi[2,i],i], sizes[i]] for i in 1:length(sizes)]\n",
    "    x_scaled(X, L, v1, v2) = ((X.-v1)./v1)*L^(1/v2)\n",
    "    y_scaled(Y, L, v1, v2) = Y\n",
    "\n",
    "    scaled_data, residuals, min_res, best_v1, best_v2 = fss_two_var(data = BC_FSS, xs = x_scaled, ys = y_scaled, \n",
    "        v1i = g_c, v1f = g_c, n1 = 1, v2i = 0.5, v2f = 1.5, n2 = 5000, p = 8)\n",
    "    \n",
    "    return best_v2\n",
    "end"
   ]
  },
  {
   "cell_type": "code",
   "execution_count": 7,
   "id": "db4f0046",
   "metadata": {
    "scrolled": false
   },
   "outputs": [
    {
     "name": "stdout",
     "output_type": "stream",
     "text": [
      "Optimal v1 value: 0.5\n",
      "Optimal v2 value: 1.0521104220844169\n",
      "Smallest residual: 9.156792864805343e-7 \n",
      " \n"
     ]
    }
   ],
   "source": [
    "v = nu(BC_data)\n",
    "save_object(\"ν.jld2\",v)"
   ]
  },
  {
   "cell_type": "code",
   "execution_count": null,
   "id": "d010eb74",
   "metadata": {},
   "outputs": [],
   "source": [
    "g_c = 0.5\n",
    "L = [60:5:80;]\n",
    "g = collect(0.0:0.01:1.0)\n",
    "ν = load_object(\"ν.jld2\")"
   ]
  },
  {
   "cell_type": "code",
   "execution_count": null,
   "id": "de7e1ef9",
   "metadata": {},
   "outputs": [],
   "source": [
    "x_scaled(X, L, v1, v2) = ((X.-g_c)./g_c)*L^(1/ν)\n",
    "y_scaled(Y, L, v1, v2) = Y"
   ]
  }
 ],
 "metadata": {
  "kernelspec": {
   "display_name": "Julia 1.9.3",
   "language": "julia",
   "name": "julia-1.9"
  },
  "language_info": {
   "file_extension": ".jl",
   "mimetype": "application/julia",
   "name": "julia",
   "version": "1.9.3"
  }
 },
 "nbformat": 4,
 "nbformat_minor": 5
}
